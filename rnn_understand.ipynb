{
 "cells": [
  {
   "cell_type": "code",
   "execution_count": 39,
   "metadata": {
    "collapsed": true
   },
   "outputs": [],
   "source": [
    "import numpy as np"
   ]
  },
  {
   "cell_type": "code",
   "execution_count": 40,
   "metadata": {
    "collapsed": false
   },
   "outputs": [],
   "source": [
    "\n",
    "# data I/O\n",
    "#data = open('input2.txt', 'r').read() # should be simple plain text file\n",
    "#chars = list(set(data))\n",
    "#data_size, vocab_size = len(data), len(chars)\n",
    "#print( \"data has\" , data_size, \"characters\", vocab_size, \"unique\")\n",
    "#char_to_ix = { ch:i for i,ch in enumerate(chars) }\n",
    "#ix_to_char = { i:ch for i,ch in enumerate(chars) }\n",
    "data = range(100)\n",
    "\n",
    "# hyperparameters\n",
    "inputSize, outputSize = 1,1 \n",
    "hidden_size = 5 # size of hidden layer of neurons\n",
    "#seq_length = 10 # number of steps to unroll the RNN for\n",
    "learning_rate = 1e-1\n",
    "\n",
    "# model parameters\n",
    "Wxh = np.random.randn(hidden_size, inputSize)*0.01 # input to hidden\n",
    "Whh = np.random.randn(hidden_size, hidden_size)*0.01 # hidden to hidden\n",
    "Why = np.random.randn(outputSize, hidden_size)*0.01 # hidden to output\n",
    "bh = np.zeros((hidden_size, 1)) # hidden bias\n",
    "by = np.zeros((outputSize, 1)) # output bias\n"
   ]
  },
  {
   "cell_type": "code",
   "execution_count": 45,
   "metadata": {
    "collapsed": false
   },
   "outputs": [],
   "source": [
    "\n",
    "def lossFun(inputs, targets, hprev):\n",
    "    \"\"\"\n",
    "    inputs,targets are both list of integers.\n",
    "    hprev is Hx1 array of initial hidden state\n",
    "    returns the loss, gradients on model parameters, and last hidden state\n",
    "    \"\"\"\n",
    "    #print(\"input\", inputs)\n",
    "    #print(\"targets\",targets)\n",
    "    #print(\"hpre\", hprev)\n",
    "    xs, hs, ys = {}, {}, {}\n",
    "    #ps = {}\n",
    "    hs[-1] = np.copy(hprev)\n",
    "    #print(hs[-1])\n",
    "    #loss = 0\n",
    "    # forward pass\n",
    "    for t in range(len(inputs)):\n",
    "        #xs[t] = np.zeros((vocab_size,1)) # encode in 1-of-k representation\n",
    "        #xs[t][inputs[t]] = 1\n",
    "        xs[t] = np.array(inputs[t])\n",
    "        hs[t] = np.tanh(np.dot(Wxh, xs[t]) + np.dot(Whh, hs[t-1]) + bh) # hidden state\n",
    "        ys[t] = np.dot(Why, hs[t]) + by # unnormalized log probabilities for next chars\n",
    "        #ps[t] = np.exp(ys[t]) / np.sum(np.exp(ys[t])) # probabilities for next chars\n",
    "        #loss += -np.log(ps[t][targets[t],0]) # softmax (cross-entropy loss)\n",
    "    #print(type(hs[0]))    \n",
    "    #print(\"xs\", xs[0])\n",
    "    #print(\"hs\", hs[0])\n",
    "    #print(\"ys\", ys[0])\n",
    "    #print(\"ps\", ps[0])\n",
    "    # backward pass: compute gradients going backwards\n",
    "    dWxh, dWhh, dWhy = np.zeros_like(Wxh), np.zeros_like(Whh), np.zeros_like(Why)\n",
    "    dbh, dby = np.zeros_like(bh), np.zeros_like(by)\n",
    "    dhnext = np.zeros_like(hs[0])\n",
    "    for t in reversed(range(len(inputs))):\n",
    "        #dy = np.copy(ps[t])\n",
    "        #dy[targets[t]] -= 1 # backprop into y. see http://cs231n.github.io/neural-networks-case-study/#grad if confused here\n",
    "        dy = targets[t] - ys[t]\n",
    "        \n",
    "        dWhy += np.dot(dy, hs[t].T)\n",
    "        dby += dy\n",
    "        \n",
    "        dh = np.dot(Why.T, dy) + dhnext # backprop into h\n",
    "        dhraw = (1 - hs[t] * hs[t]) * dh # backprop through tanh nonlinearity\n",
    "        \n",
    "        dbh += dhraw\n",
    "        dWxh += np.dot(dhraw, xs[t].T)\n",
    "        dWhh += np.dot(dhraw, hs[t-1].T)\n",
    "        \n",
    "        dhnext = np.dot(Whh.T, dhraw)\n",
    "    for dparam in [dWxh, dWhh, dWhy, dbh, dby]:\n",
    "        np.clip(dparam, -5, 5, out=dparam) # clip to mitigate exploding gradients\n",
    "    return ys, dWxh, dWhh, dWhy, dbh, dby, hs[len(inputs)-1]\n"
   ]
  },
  {
   "cell_type": "code",
   "execution_count": 46,
   "metadata": {
    "collapsed": true
   },
   "outputs": [],
   "source": [
    "n, p = 0, 0\n",
    "mWxh, mWhh, mWhy = np.zeros_like(Wxh), np.zeros_like(Whh), np.zeros_like(Why)\n",
    "mbh, mby = np.zeros_like(bh), np.zeros_like(by) # memory variables for Adagrad\n",
    "#smooth_loss = -np.log(1.0/vocab_size)*seq_length # loss at iteration 0"
   ]
  },
  {
   "cell_type": "code",
   "execution_count": 47,
   "metadata": {
    "collapsed": true
   },
   "outputs": [],
   "source": [
    "hprev = np.zeros((hidden_size,1)) # reset RNN memory\n",
    "p = 0 # go from start of data\n",
    "inputs = data[:10]\n",
    "targets = data[1:11]"
   ]
  },
  {
   "cell_type": "code",
   "execution_count": 48,
   "metadata": {
    "collapsed": false
   },
   "outputs": [
    {
     "name": "stdout",
     "output_type": "stream",
     "text": [
      "{0: array([[ 1.00204857]]), 1: array([[ 1.95297617]]), 2: array([[ 3.00589596]]), 3: array([[ 3.95737819]]), 4: array([[ 4.87177692]]), 5: array([[ 5.8246921]]), 6: array([[ 6.86313278]]), 7: array([[ 7.96082999]]), 8: array([[ 8.97717055]]), 9: array([[ 9.73963104]])}\n",
      "{0: array([[ 1.06696742]]), 1: array([[ 2.03557552]]), 2: array([[ 2.92672726]]), 3: array([[ 4.1839852]]), 4: array([[ 5.32377692]]), 5: array([[ 6.48529463]]), 6: array([[ 7.51779465]]), 7: array([[ 8.41434489]]), 8: array([[ 9.14410606]]), 9: array([[ 9.71589249]])}\n",
      "{0: array([[ 1.07972707]]), 1: array([[ 2.09085105]]), 2: array([[ 2.924932]]), 3: array([[ 4.09155951]]), 4: array([[ 5.18335894]]), 5: array([[ 6.31646391]]), 6: array([[ 7.39043994]]), 7: array([[ 8.3709617]]), 8: array([[ 9.20017398]]), 9: array([[ 9.85187902]])}\n",
      "{0: array([[ 1.04956084]]), 1: array([[ 2.09475083]]), 2: array([[ 2.97536686]]), 3: array([[ 4.07473884]]), 4: array([[ 5.14269544]]), 5: array([[ 6.23360072]]), 6: array([[ 7.30746573]]), 7: array([[ 8.32674807]]), 8: array([[ 9.22088133]]), 9: array([[ 9.93106489]])}\n",
      "{0: array([[ 1.02627477]]), 1: array([[ 2.07224797]]), 2: array([[ 3.01464263]]), 3: array([[ 4.07156534]]), 4: array([[ 5.12220022]]), 5: array([[ 6.1826184]]), 6: array([[ 7.24729359]]), 7: array([[ 8.28587263]]), 8: array([[ 9.22175797]]), 9: array([[ 9.97294675]])}\n",
      "{0: array([[ 1.01487539]]), 1: array([[ 2.05175713]]), 2: array([[ 3.03680044]]), 3: array([[ 4.07070679]]), 4: array([[ 5.1073654]]), 5: array([[ 6.14774243]]), 6: array([[ 7.20352969]]), 7: array([[ 8.25224745]]), 8: array([[ 9.21497503]]), 9: array([[ 9.99465706]])}\n",
      "{0: array([[ 1.00933245]]), 1: array([[ 2.03813408]]), 2: array([[ 3.04718645]]), 3: array([[ 4.06913019]]), 4: array([[ 5.09583]]), 5: array([[ 6.12354306]]), 6: array([[ 7.17270579]]), 7: array([[ 8.2266818]]), 8: array([[ 9.20620116]]), 9: array([[ 10.00520336]])}\n",
      "{0: array([[ 1.00643337]]), 1: array([[ 2.02950699]]), 2: array([[ 3.05105921]]), 3: array([[ 4.06700337]]), 4: array([[ 5.08688254]]), 5: array([[ 6.1062808]]), 6: array([[ 7.15043706]]), 7: array([[ 8.20698562]]), 8: array([[ 9.19738272]]), 9: array([[ 10.01020392]])}\n",
      "{0: array([[ 1.00478466]]), 1: array([[ 2.02401375]]), 2: array([[ 3.05159362]]), 3: array([[ 4.06476967]]), 4: array([[ 5.0799339]]), 5: array([[ 6.09356074]]), 6: array([[ 7.13373757]]), 7: array([[ 8.19138302]]), 8: array([[ 9.18923831]]), 9: array([[ 10.01261233]])}\n",
      "{0: array([[ 1.00357843]]), 1: array([[ 2.02034223]]), 2: array([[ 3.05068929]]), 3: array([[ 4.06297016]]), 4: array([[ 5.07477198]]), 5: array([[ 6.08402333]]), 6: array([[ 7.12071578]]), 7: array([[ 8.17861804]]), 8: array([[ 9.18217259]]), 9: array([[ 10.01451953]])}\n"
     ]
    }
   ],
   "source": [
    "for i in range(1000):\n",
    "    hprev = np.zeros((hidden_size,1)) # reset RNN memory\n",
    "    p = 0 # go from start of data\n",
    "    inputs = data[:10]\n",
    "    targets = data[1:11]\n",
    "    ys, dWxh, dWhh, dWhy, dbh, dby, hprev = lossFun(inputs, targets, hprev)\n",
    "    \n",
    "    if i %100 == 0:\n",
    "        print(ys)\n",
    "        \n",
    "    for param, dparam, mem in zip([Wxh, Whh, Why, bh, by], \n",
    "                                                                [dWxh, dWhh, dWhy, dbh, dby], \n",
    "                                                                [mWxh, mWhh, mWhy, mbh, mby]):\n",
    "        mem += dparam * dparam\n",
    "        param += learning_rate * dparam / np.sqrt(mem + 1e-8) # adagrad update\n"
   ]
  },
  {
   "cell_type": "code",
   "execution_count": 25,
   "metadata": {
    "collapsed": false
   },
   "outputs": [],
   "source": [
    "def sample(h, seed_ix, n):\n",
    "    \"\"\" \n",
    "    sample a sequence of integers from the model \n",
    "    h is memory state, seed_ix is seed letter for first time step\n",
    "    \"\"\"\n",
    "    x = np.zeros((vocab_size, 1))\n",
    "    x[seed_ix] = 1\n",
    "    ixes = []\n",
    "    for t in range(n):\n",
    "        h = np.tanh(np.dot(Wxh, x) + np.dot(Whh, h) + bh)\n",
    "        y = np.dot(Why, h) + by\n",
    "        p = np.exp(y) / np.sum(np.exp(y))\n",
    "        ix = np.random.choice(range(vocab_size), p=p.ravel())\n",
    "        x = np.zeros((vocab_size, 1))\n",
    "        x[ix] = 1\n",
    "        ixes.append(ix)\n",
    "    return ixes"
   ]
  },
  {
   "cell_type": "code",
   "execution_count": null,
   "metadata": {
    "collapsed": true
   },
   "outputs": [],
   "source": [
    "# prepare inputs (we're sweeping from left to right in steps seq_length long)\n",
    "if p+seq_length+1 >= len(data) or n == 0: \n",
    "    hprev = np.zeros((hidden_size,1)) # reset RNN memory\n",
    "    p = 0 # go from start of data\n",
    "inputs = [char_to_ix[ch] for ch in data[p:p+seq_length]]\n",
    "targets = [char_to_ix[ch] for ch in data[p+1:p+seq_length+1]]\n",
    "\n",
    "# sample from the model now and then\n",
    "if n % 100 == 0:\n",
    "    sample_ix = sample(hprev, inputs[0], 200)\n",
    "    txt = ''.join(ix_to_char[ix] for ix in sample_ix)\n",
    "    print(txt)\n",
    "\n",
    "# forward seq_length characters through the net and fetch gradient\n",
    "loss, dWxh, dWhh, dWhy, dbh, dby, hprev = lossFun(inputs, targets, hprev)\n",
    "smooth_loss = smooth_loss * 0.999 + loss * 0.001#stupid\n",
    "if n % 100 == 0: print( 'iter', n, \", loss\", smooth_loss)\n",
    "\n",
    "# perform parameter update with Adagrad\n",
    "for param, dparam, mem in zip([Wxh, Whh, Why, bh, by], \n",
    "                                                            [dWxh, dWhh, dWhy, dbh, dby], \n",
    "                                                            [mWxh, mWhh, mWhy, mbh, mby]):\n",
    "    mem += dparam * dparam\n",
    "    param += -learning_rate * dparam / np.sqrt(mem + 1e-8) # adagrad update\n",
    "\n",
    "p += seq_length # move data pointer\n",
    "n += 1 # iteration counter "
   ]
  },
  {
   "cell_type": "code",
   "execution_count": null,
   "metadata": {
    "collapsed": true
   },
   "outputs": [],
   "source": []
  }
 ],
 "metadata": {
  "kernelspec": {
   "display_name": "Python [Root]",
   "language": "python",
   "name": "Python [Root]"
  },
  "language_info": {
   "codemirror_mode": {
    "name": "ipython",
    "version": 3
   },
   "file_extension": ".py",
   "mimetype": "text/x-python",
   "name": "python",
   "nbconvert_exporter": "python",
   "pygments_lexer": "ipython3",
   "version": "3.5.2"
  }
 },
 "nbformat": 4,
 "nbformat_minor": 0
}
