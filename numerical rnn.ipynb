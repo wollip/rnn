{
 "cells": [
  {
   "cell_type": "code",
   "execution_count": 1,
   "metadata": {
    "collapsed": true
   },
   "outputs": [],
   "source": [
    "import numpy as np"
   ]
  },
  {
   "cell_type": "code",
   "execution_count": 2,
   "metadata": {
    "collapsed": true
   },
   "outputs": [],
   "source": [
    "fibo = lambda n : ((5+3*5**0.5)/10) * ((1+5**0.5)/2)**n + ((5-3*5**0.5)/10) * ((1-5**0.5)/2)**n"
   ]
  },
  {
   "cell_type": "code",
   "execution_count": 3,
   "metadata": {
    "collapsed": true
   },
   "outputs": [],
   "source": [
    "data = [fibo(n) for n in range(20)]"
   ]
  },
  {
   "cell_type": "code",
   "execution_count": 13,
   "metadata": {
    "collapsed": true
   },
   "outputs": [],
   "source": [
    "#hyperparameters\n",
    "inputSize = 1\n",
    "hiddenSize = 50\n",
    "outputSize = 1\n",
    "learningRate = 1e-1\n",
    "\n",
    "#model parameters\n",
    "wih = np.random.rand(hiddenSize, inputSize)*0.01\n",
    "whh = np.random.rand(hiddenSize, hiddenSize)*0.01\n",
    "who = np.random.rand(outputSize, hiddenSize)*0.01\n",
    "bh = np.zeros((hiddenSize, 1))\n",
    "by = np.zeros((outputSize, 1))"
   ]
  },
  {
   "cell_type": "code",
   "execution_count": 14,
   "metadata": {
    "collapsed": false
   },
   "outputs": [],
   "source": [
    "#memory for adagrad update\n",
    "mwih = np.zeros_like(wih)\n",
    "mwhh = np.zeros_like(whh)\n",
    "mwho = np.zeros_like(who)\n",
    "mbh = np.zeros_like(bh)\n",
    "mby = np.zeros_like(by)"
   ]
  },
  {
   "cell_type": "code",
   "execution_count": 15,
   "metadata": {
    "collapsed": true
   },
   "outputs": [],
   "source": [
    "def forward(inputs, hprev):\n",
    "    xs, hs, outputs = {}, {}, {}\n",
    "    \n",
    "    hs[-1] = hprev\n",
    "    for index in range(len(inputs)):\n",
    "        xs[index] = np.array(inputs[index])\n",
    "        hs[index] = np.tanh( np.dot(wih, xs[index]) + np.dot(whh, hs[index-1]) + bh)\n",
    "        outputs[index] = np.dot(who, hs[index]) + by \n",
    "        \n",
    "    return xs, hs, outputs"
   ]
  },
  {
   "cell_type": "code",
   "execution_count": 16,
   "metadata": {
    "collapsed": true
   },
   "outputs": [],
   "source": [
    "def backwards(xs, hs, outputs, targets):\n",
    "    dwih = np.zeros_like(wih)\n",
    "    dwhh = np.zeros_like(whh)\n",
    "    dwho = np.zeros_like(who)\n",
    "    dbh = np.zeros_like(bh)\n",
    "    dby = np.zeros_like(by)\n",
    "    dhnext = np.zeros_like(hs[0])\n",
    "    for index in reversed(range(len(outputs))):\n",
    "        dy = targets[index] - outputs[index]\n",
    "        \n",
    "        dwho += np.dot(dy, hs[index].T)\n",
    "        dby += dy\n",
    "        \n",
    "        dh = np.dot(who.T, dy) + dhnext\n",
    "        dhraw = dh*(1-hs[index]*hs[index]) \n",
    "        #dhraw *= dh # usinging a divide instead of a multiplier right here\n",
    "        \n",
    "        dbh += dhraw\n",
    "        dwih += np.dot(dhraw, xs[index].T)\n",
    "        dwhh += np.dot(dhraw, hs[index-1].T)\n",
    "        \n",
    "        dhnext = np.dot(whh.T, dhraw)\n",
    "    for dparam in [dwih, dwhh, dwho, dbh, dby]:\n",
    "        np.clip(dparam, -5, 5, out=dparam)\n",
    "        \n",
    "    for param, dparam, mparam in zip([wih, whh, who, bh, by],\n",
    "                                    [dwih, dwhh, dwho, dbh, dby],\n",
    "                                    [mwih, mwhh, mwho, mbh, mby]):\n",
    "        #print(dparam)\n",
    "        mparam += dparam*dparam\n",
    "        #print(- learningRate * dparam / np.sqrt( mparam + 0.0001))\n",
    "        #print(param)\n",
    "        param += learningRate * dparam / np.sqrt( mparam + 1e-8)\n",
    "        #print(param)\n",
    "    #return (dwih, dwhh, dwho, dbh, dby)\n",
    "    \n",
    "        "
   ]
  },
  {
   "cell_type": "code",
   "execution_count": 17,
   "metadata": {
    "collapsed": false
   },
   "outputs": [
    {
     "name": "stdout",
     "output_type": "stream",
     "text": [
      "11.996278693757347\n"
     ]
    }
   ],
   "source": [
    "from timeit import default_timer as timer\n",
    "inputs = data[:-1]\n",
    "targets = data[1:]\n",
    "hprev = np.zeros((hiddenSize, 1))\n",
    "start = timer()\n",
    "for i in range(100000):\n",
    "    xs, hs, outputs, = forward(inputs, hprev)\n",
    "    #backwards(xs, hs, outputs, targets)\n",
    "end = timer()\n",
    "print(end - start)"
   ]
  },
  {
   "cell_type": "code",
   "execution_count": 17,
   "metadata": {
    "collapsed": false,
    "scrolled": true
   },
   "outputs": [
    {
     "name": "stdout",
     "output_type": "stream",
     "text": [
      "loss [[ 16.45996947]]\n",
      "loss [[ 234.93786301]]\n",
      "loss [[ 5208.40764054]]\n",
      "loss [[ 32.12721486]]\n",
      "loss [[ 1902.37016552]]\n",
      "loss [[ 0.96621353]]\n",
      "loss [[ 631.71443468]]\n",
      "loss [[ 0.82252432]]\n",
      "loss [[ 152.83770432]]\n",
      "loss [[ 5119.61772716]]\n",
      "loss [[ 2.17528835]]\n",
      "loss [[ 1832.66955656]]\n",
      "loss [[ 1.15274918]]\n",
      "loss [[ 578.62975543]]\n",
      "loss [[ 0.80280173]]\n",
      "loss [[ 116.55371524]]\n",
      "loss [[ 5068.03229279]]\n",
      "loss [[ 1.41043364]]\n",
      "loss [[ 1786.21577116]]\n",
      "loss [[ 0.83570189]]\n",
      "loss [[ 540.26873325]]\n",
      "loss [[ 0.87919975]]\n",
      "loss [[ 90.8261086]]\n",
      "loss [[ 5027.34014696]]\n",
      "loss [[ 1.77882179]]\n",
      "loss [[ 1750.29305318]]\n",
      "loss [[ 0.6798335]]\n",
      "loss [[ 512.42913751]]\n",
      "loss [[ 1.4049011]]\n",
      "loss [[ 72.90961976]]\n",
      "loss [[ 4994.97350046]]\n",
      "loss [[ 1.93902639]]\n",
      "loss [[ 1721.07652739]]\n",
      "loss [[ 1.07895281]]\n",
      "loss [[ 488.17038948]]\n",
      "loss [[ 2.60978753]]\n",
      "loss [[ 57.05774473]]\n",
      "loss [[ 4966.29731661]]\n",
      "loss [[ 2.39624654]]\n",
      "loss [[ 1694.58356208]]\n",
      "loss [[ 2.54558838]]\n",
      "loss [[ 466.61875857]]\n",
      "loss [[ 1.39387567]]\n",
      "loss [[ 42.35652319]]\n",
      "loss [[ 4939.78353271]]\n",
      "loss [[ 1.58451851]]\n",
      "loss [[ 1670.15403919]]\n",
      "loss [[ 1.36017698]]\n",
      "loss [[ 447.0022914]]\n",
      "loss [[ 0.78883818]]\n"
     ]
    }
   ],
   "source": [
    "p = 0\n",
    "for i in range(50000):\n",
    "    if  p+6 > len(data)-1:\n",
    "        p = 0\n",
    "        hprev = np.zeros((hiddenSize, 1))\n",
    "    \n",
    "    inputs = data[p:p+5]\n",
    "    targets = data[p+1: p+6]\n",
    "    #print(inputs, targets)\n",
    "    xs, hs, outputs = forward(inputs, hprev)\n",
    "    hprev = np.copy(hs[1])\n",
    "    \n",
    "    if i%1000 == 0:\n",
    "        loss = 0\n",
    "        for x in range(len(outputs)):\n",
    "            loss +=  (outputs[x] - targets[x])**2\n",
    "    #    if loss < 4:\n",
    "    #        break\n",
    "        print(\"loss\", loss**0.5)\n",
    "        #print(outputs)\n",
    "        \n",
    "    backwards(xs, hs, outputs, targets)\n",
    "    #updateParam()\n",
    "    p+=1"
   ]
  },
  {
   "cell_type": "code",
   "execution_count": 18,
   "metadata": {
    "collapsed": false
   },
   "outputs": [],
   "source": [
    "inputs = data[:-1]\n",
    "hprev = np.zeros((hiddenSize, 1))\n",
    "_, _, outputs =forward(inputs, hprev)"
   ]
  },
  {
   "cell_type": "code",
   "execution_count": 19,
   "metadata": {
    "collapsed": false
   },
   "outputs": [
    {
     "data": {
      "text/plain": [
       "({0: array([[ 2.02647558]]),\n",
       "  1: array([[ 3.2992384]]),\n",
       "  2: array([[ 5.48210882]]),\n",
       "  3: array([[ 8.78395584]]),\n",
       "  4: array([[ 12.87212407]]),\n",
       "  5: array([[ 20.15798311]]),\n",
       "  6: array([[ 34.1504538]]),\n",
       "  7: array([[ 54.89091813]]),\n",
       "  8: array([[ 88.87515863]]),\n",
       "  9: array([[ 143.18619996]]),\n",
       "  10: array([[ 204.57759982]]),\n",
       "  11: array([[ 204.58477244]]),\n",
       "  12: array([[ 204.58477346]]),\n",
       "  13: array([[ 204.58477346]]),\n",
       "  14: array([[ 204.58477346]]),\n",
       "  15: array([[ 204.58477346]]),\n",
       "  16: array([[ 204.58477346]]),\n",
       "  17: array([[ 204.58477346]]),\n",
       "  18: array([[ 204.58477346]])},\n",
       " [1.0,\n",
       "  2.0000000000000004,\n",
       "  3.0000000000000004,\n",
       "  5.0,\n",
       "  8.000000000000002,\n",
       "  13.000000000000005,\n",
       "  21.000000000000007,\n",
       "  34.000000000000014,\n",
       "  55.00000000000002,\n",
       "  89.00000000000004,\n",
       "  144.00000000000006,\n",
       "  233.00000000000009,\n",
       "  377.0000000000002,\n",
       "  610.0000000000002,\n",
       "  987.0000000000006,\n",
       "  1597.0000000000011,\n",
       "  2584.000000000002,\n",
       "  4181.000000000003,\n",
       "  6765.0000000000055,\n",
       "  10946.000000000007])"
      ]
     },
     "execution_count": 19,
     "metadata": {},
     "output_type": "execute_result"
    }
   ],
   "source": [
    "outputs, data"
   ]
  },
  {
   "cell_type": "code",
   "execution_count": 108,
   "metadata": {
    "collapsed": false
   },
   "outputs": [
    {
     "data": {
      "text/plain": [
       "[1.0,\n",
       " 2.0000000000000004,\n",
       " 3.0000000000000004,\n",
       " 5.0,\n",
       " 8.000000000000002,\n",
       " 13.000000000000005,\n",
       " 21.000000000000007,\n",
       " 34.000000000000014,\n",
       " 55.00000000000002,\n",
       " 89.00000000000004,\n",
       " 144.00000000000006,\n",
       " 233.00000000000009,\n",
       " 377.0000000000002,\n",
       " 610.0000000000002,\n",
       " 987.0000000000006]"
      ]
     },
     "execution_count": 108,
     "metadata": {},
     "output_type": "execute_result"
    }
   ],
   "source": [
    "[fibo(n) for n in range(15)]"
   ]
  },
  {
   "cell_type": "code",
   "execution_count": null,
   "metadata": {
    "collapsed": true
   },
   "outputs": [],
   "source": []
  }
 ],
 "metadata": {
  "anaconda-cloud": {},
  "kernelspec": {
   "display_name": "Python [Root]",
   "language": "python",
   "name": "Python [Root]"
  },
  "language_info": {
   "codemirror_mode": {
    "name": "ipython",
    "version": 3
   },
   "file_extension": ".py",
   "mimetype": "text/x-python",
   "name": "python",
   "nbconvert_exporter": "python",
   "pygments_lexer": "ipython3",
   "version": "3.5.2"
  }
 },
 "nbformat": 4,
 "nbformat_minor": 0
}
