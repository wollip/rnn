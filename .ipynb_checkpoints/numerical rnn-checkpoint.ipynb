{
 "cells": [
  {
   "cell_type": "code",
   "execution_count": 1,
   "metadata": {
    "collapsed": true
   },
   "outputs": [],
   "source": [
    "import numpy as np"
   ]
  },
  {
   "cell_type": "code",
   "execution_count": 2,
   "metadata": {
    "collapsed": true
   },
   "outputs": [],
   "source": [
    "fibo = lambda n : ((5+3*5**0.5)/10) * ((1+5**0.5)/2)**n + ((5-3*5**0.5)/10) * ((1-5**0.5)/2)**n"
   ]
  },
  {
   "cell_type": "code",
   "execution_count": 17,
   "metadata": {
    "collapsed": true
   },
   "outputs": [],
   "source": [
    "data = [n for n in range(20)]"
   ]
  },
  {
   "cell_type": "code",
   "execution_count": 19,
   "metadata": {
    "collapsed": true
   },
   "outputs": [],
   "source": [
    "#hyperparameters\n",
    "inputSize = 1\n",
    "hiddenSize = 5\n",
    "outputSize = 1\n",
    "learningRate = 1e-1\n",
    "\n",
    "#model parameters\n",
    "wih = np.random.rand(hiddenSize, inputSize)*0.01\n",
    "whh = np.random.rand(hiddenSize, hiddenSize)*0.01\n",
    "who = np.random.rand(outputSize, hiddenSize)*0.01\n",
    "bh = np.zeros((hiddenSize, 1))\n",
    "by = np.zeros((outputSize, 1))"
   ]
  },
  {
   "cell_type": "code",
   "execution_count": 20,
   "metadata": {
    "collapsed": false
   },
   "outputs": [],
   "source": [
    "#memory for adagrad update\n",
    "mwih = np.zeros_like(wih)\n",
    "mwhh = np.zeros_like(whh)\n",
    "mwho = np.zeros_like(who)\n",
    "mbh = np.zeros_like(bh)\n",
    "mby = np.zeros_like(by)"
   ]
  },
  {
   "cell_type": "code",
   "execution_count": 6,
   "metadata": {
    "collapsed": true
   },
   "outputs": [],
   "source": [
    "def forward(inputs, hprev):\n",
    "    xs, hs, outputs = {}, {}, {}\n",
    "    \n",
    "    hs[-1] = hprev\n",
    "    for index in range(len(inputs)):\n",
    "        xs[index] = np.array(inputs[index])\n",
    "        hs[index] = np.tanh( np.dot(wih, xs[index]) + np.dot(whh, hs[index-1]) + bh)\n",
    "        outputs[index] = np.dot(who, hs[index]) + by \n",
    "        \n",
    "    return xs, hs, outputs"
   ]
  },
  {
   "cell_type": "code",
   "execution_count": 7,
   "metadata": {
    "collapsed": true
   },
   "outputs": [],
   "source": [
    "def backwards(xs, hs, outputs, targets):\n",
    "    dwih = np.zeros_like(wih)\n",
    "    dwhh = np.zeros_like(whh)\n",
    "    dwho = np.zeros_like(who)\n",
    "    dbh = np.zeros_like(bh)\n",
    "    dby = np.zeros_like(by)\n",
    "    dhnext = np.zeros_like(hs[0])\n",
    "    for index in reversed(range(len(outputs))):\n",
    "        dy = targets[index] - outputs[index]\n",
    "        \n",
    "        dwho += np.dot(dy, hs[index].T)\n",
    "        dby += dy\n",
    "        \n",
    "        dh = np.dot(who.T, dy) + dhnext\n",
    "        dhraw = dh*(1-hs[index]*hs[index]) \n",
    "        #dhraw *= dh # usinging a divide instead of a multiplier right here\n",
    "        \n",
    "        dbh += dhraw\n",
    "        dwih += np.dot(dhraw, xs[index].T)\n",
    "        dwhh += np.dot(dhraw, hs[index-1].T)\n",
    "        \n",
    "        dhnext = np.dot(whh.T, dhraw)\n",
    "    for dparam in [dwih, dwhh, dwho, dbh, dby]:\n",
    "        np.clip(dparam, -5, 5, out=dparam)\n",
    "        \n",
    "    for param, dparam, mparam in zip([wih, whh, who, bh, by],\n",
    "                                    [dwih, dwhh, dwho, dbh, dby],\n",
    "                                    [mwih, mwhh, mwho, mbh, mby]):\n",
    "        #print(dparam)\n",
    "        mparam += dparam*dparam\n",
    "        #print(- learningRate * dparam / np.sqrt( mparam + 0.0001))\n",
    "        #print(param)\n",
    "        param += learningRate * dparam / np.sqrt( mparam + 1e-8)\n",
    "        #print(param)\n",
    "    #return (dwih, dwhh, dwho, dbh, dby)\n",
    "    \n",
    "        "
   ]
  },
  {
   "cell_type": "code",
   "execution_count": 28,
   "metadata": {
    "collapsed": false,
    "scrolled": true
   },
   "outputs": [
    {
     "name": "stdout",
     "output_type": "stream",
     "text": [
      "loss [[ 0.08089004]]\n",
      "loss [[ 0.04139916]]\n",
      "loss [[ 0.07522063]]\n",
      "loss [[ 0.02958363]]\n",
      "loss [[ 0.03231263]]\n",
      "loss [[ 0.0428493]]\n",
      "loss [[ 0.05173916]]\n",
      "loss [[ 0.08144123]]\n",
      "loss [[ 0.04273485]]\n",
      "loss [[ 0.07207645]]\n",
      "loss [[ 0.02770142]]\n",
      "loss [[ 0.02783961]]\n",
      "loss [[ 0.03983139]]\n",
      "loss [[ 0.04541371]]\n",
      "loss [[ 0.0752893]]\n",
      "loss [[ 0.04312247]]\n",
      "loss [[ 0.06950851]]\n",
      "loss [[ 0.0259266]]\n",
      "loss [[ 0.02460675]]\n",
      "loss [[ 0.03732136]]\n",
      "loss [[ 0.04105046]]\n",
      "loss [[ 0.06971907]]\n",
      "loss [[ 0.04309145]]\n",
      "loss [[ 0.06731347]]\n",
      "loss [[ 0.02441031]]\n",
      "loss [[ 0.02215774]]\n",
      "loss [[ 0.03511437]]\n",
      "loss [[ 0.03789602]]\n",
      "loss [[ 0.06459588]]\n",
      "loss [[ 0.04283484]]\n",
      "loss [[ 0.06539591]]\n",
      "loss [[ 0.02310298]]\n",
      "loss [[ 0.02024214]]\n",
      "loss [[ 0.03312475]]\n",
      "loss [[ 0.03551185]]\n",
      "loss [[ 0.05988069]]\n",
      "loss [[ 0.04245257]]\n",
      "loss [[ 0.06369774]]\n",
      "loss [[ 0.02195578]]\n",
      "loss [[ 0.01870365]]\n",
      "loss [[ 0.03130244]]\n",
      "loss [[ 0.03363774]]\n",
      "loss [[ 0.05554141]]\n",
      "loss [[ 0.0420045]]\n",
      "loss [[ 0.06218108]]\n",
      "loss [[ 0.02093604]]\n",
      "loss [[ 0.01743845]]\n",
      "loss [[ 0.02961379]]\n",
      "loss [[ 0.0321145]]\n",
      "loss [[ 0.05154722]]\n"
     ]
    }
   ],
   "source": [
    "p = 0\n",
    "for i in range(50000):\n",
    "    if  p+6 > len(data)-1:\n",
    "        p = 0\n",
    "        hprev = np.zeros((hiddenSize, 1))\n",
    "    \n",
    "    inputs = data[p:p+5]\n",
    "    targets = data[p+1: p+6]\n",
    "    #print(inputs, targets)\n",
    "    xs, hs, outputs = forward(inputs, hprev)\n",
    "    hprev = np.copy(hs[1])\n",
    "    \n",
    "    if i%1000 == 0:\n",
    "        loss = 0\n",
    "        for x in range(len(outputs)):\n",
    "            loss +=  (outputs[x] - targets[x])**2\n",
    "    #    if loss < 4:\n",
    "    #        break\n",
    "        print(\"loss\", loss**0.5)\n",
    "        #print(outputs)\n",
    "        \n",
    "    backwards(xs, hs, outputs, targets)\n",
    "    #updateParam()\n",
    "    p+=1"
   ]
  },
  {
   "cell_type": "code",
   "execution_count": 29,
   "metadata": {
    "collapsed": false
   },
   "outputs": [],
   "source": [
    "inputs = data[:-1]\n",
    "hprev = np.zeros((hiddenSize, 1))\n",
    "_, _, outputs =forward(inputs, hprev)"
   ]
  },
  {
   "cell_type": "code",
   "execution_count": 30,
   "metadata": {
    "collapsed": false
   },
   "outputs": [
    {
     "data": {
      "text/plain": [
       "({0: array([[ 1.00022795]]),\n",
       "  1: array([[ 1.99158764]]),\n",
       "  2: array([[ 3.04110633]]),\n",
       "  3: array([[ 4.00260228]]),\n",
       "  4: array([[ 5.00019098]]),\n",
       "  5: array([[ 5.9979223]]),\n",
       "  6: array([[ 6.99087631]]),\n",
       "  7: array([[ 7.98778049]]),\n",
       "  8: array([[ 8.99560816]]),\n",
       "  9: array([[ 10.01052561]]),\n",
       "  10: array([[ 11.01952512]]),\n",
       "  11: array([[ 12.01146126]]),\n",
       "  12: array([[ 12.98947062]]),\n",
       "  13: array([[ 13.97428541]]),\n",
       "  14: array([[ 14.98987956]]),\n",
       "  15: array([[ 16.03204823]]),\n",
       "  16: array([[ 17.04243559]]),\n",
       "  17: array([[ 17.92627207]]),\n",
       "  18: array([[ 18.61270755]])},\n",
       " [0, 1, 2, 3, 4, 5, 6, 7, 8, 9, 10, 11, 12, 13, 14, 15, 16, 17, 18, 19])"
      ]
     },
     "execution_count": 30,
     "metadata": {},
     "output_type": "execute_result"
    }
   ],
   "source": [
    "outputs, data"
   ]
  },
  {
   "cell_type": "code",
   "execution_count": 108,
   "metadata": {
    "collapsed": false
   },
   "outputs": [
    {
     "data": {
      "text/plain": [
       "[1.0,\n",
       " 2.0000000000000004,\n",
       " 3.0000000000000004,\n",
       " 5.0,\n",
       " 8.000000000000002,\n",
       " 13.000000000000005,\n",
       " 21.000000000000007,\n",
       " 34.000000000000014,\n",
       " 55.00000000000002,\n",
       " 89.00000000000004,\n",
       " 144.00000000000006,\n",
       " 233.00000000000009,\n",
       " 377.0000000000002,\n",
       " 610.0000000000002,\n",
       " 987.0000000000006]"
      ]
     },
     "execution_count": 108,
     "metadata": {},
     "output_type": "execute_result"
    }
   ],
   "source": [
    "[fibo(n) for n in range(15)]"
   ]
  },
  {
   "cell_type": "code",
   "execution_count": null,
   "metadata": {
    "collapsed": true
   },
   "outputs": [],
   "source": []
  }
 ],
 "metadata": {
  "anaconda-cloud": {},
  "kernelspec": {
   "display_name": "Python [Root]",
   "language": "python",
   "name": "Python [Root]"
  },
  "language_info": {
   "codemirror_mode": {
    "name": "ipython",
    "version": 3
   },
   "file_extension": ".py",
   "mimetype": "text/x-python",
   "name": "python",
   "nbconvert_exporter": "python",
   "pygments_lexer": "ipython3",
   "version": "3.5.2"
  }
 },
 "nbformat": 4,
 "nbformat_minor": 0
}
